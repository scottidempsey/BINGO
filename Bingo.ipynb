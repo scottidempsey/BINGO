{
 "cells": [
  {
   "cell_type": "code",
   "execution_count": null,
   "metadata": {},
   "outputs": [
    {
     "name": "stdout",
     "output_type": "stream",
     "text": [
      "player1              player2\n",
      "19 18 09 22 11       04 17 24 01 16 \n",
      "20 21 13 06 04       22 25 10 14 07 \n",
      "10 08 07 14 15       20 02 06 21 09 \n",
      "01 03 25 16 05       23 19 12 05 11 \n",
      "12 02 23 17 24       13 08 18 03 15 \n",
      "\n"
     ]
    },
    {
     "name": "stdin",
     "output_type": "stream",
     "text": [
      "player1's turn :  12\n"
     ]
    },
    {
     "name": "stdout",
     "output_type": "stream",
     "text": [
      "player1              player2\n",
      "19 18 09 22 11       04 17 24 01 16 \n",
      "20 21 13 06 04       22 25 10 14 07 \n",
      "10 08 07 14 15       20 02 06 21 09 \n",
      "01 03 25 16 05       23 19  X 05 11 \n",
      " X 02 23 17 24       13 08 18 03 15 \n",
      "\n"
     ]
    },
    {
     "name": "stdin",
     "output_type": "stream",
     "text": [
      "player1's turn :  22\n"
     ]
    },
    {
     "name": "stdout",
     "output_type": "stream",
     "text": [
      "player1              player2\n",
      "19 18 09  X 11       04 17 24 01 16 \n",
      "20 21 13 06 04        X 25 10 14 07 \n",
      "10 08 07 14 15       20 02 06 21 09 \n",
      "01 03 25 16 05       23 19  X 05 11 \n",
      " X 02 23 17 24       13 08 18 03 15 \n",
      "\n"
     ]
    },
    {
     "name": "stdin",
     "output_type": "stream",
     "text": [
      "player1's turn :  24\n"
     ]
    },
    {
     "name": "stdout",
     "output_type": "stream",
     "text": [
      "player1              player2\n",
      "19 18 09  X 11       04 17  X 01 16 \n",
      "20 21 13 06 04        X 25 10 14 07 \n",
      "10 08 07 14 15       20 02 06 21 09 \n",
      "01 03 25 16 05       23 19  X 05 11 \n",
      " X 02 23 17  X       13 08 18 03 15 \n",
      "\n"
     ]
    },
    {
     "name": "stdin",
     "output_type": "stream",
     "text": [
      "player1's turn :  06\n"
     ]
    },
    {
     "name": "stdout",
     "output_type": "stream",
     "text": [
      "player1              player2\n",
      "19 18 09  X 11       04 17  X 01 16 \n",
      "20 21 13  X 04        X 25 10 14 07 \n",
      "10 08 07 14 15       20 02  X 21 09 \n",
      "01 03 25 16 05       23 19  X 05 11 \n",
      " X 02 23 17  X       13 08 18 03 15 \n",
      "\n"
     ]
    },
    {
     "name": "stdin",
     "output_type": "stream",
     "text": [
      "player1's turn :  08\n"
     ]
    },
    {
     "name": "stdout",
     "output_type": "stream",
     "text": [
      "player1              player2\n",
      "19 18 09  X 11       04 17  X 01 16 \n",
      "20 21 13  X 04        X 25 10 14 07 \n",
      "10  X 07 14 15       20 02  X 21 09 \n",
      "01 03 25 16 05       23 19  X 05 11 \n",
      " X 02 23 17  X       13  X 18 03 15 \n",
      "\n"
     ]
    },
    {
     "name": "stdin",
     "output_type": "stream",
     "text": [
      "player1's turn :  13\n"
     ]
    },
    {
     "name": "stdout",
     "output_type": "stream",
     "text": [
      "player1              player2\n",
      "19 18 09  X 11       04 17  X 01 16 \n",
      "20 21  X  X 04        X 25 10 14 07 \n",
      "10  X 07 14 15       20 02  X 21 09 \n",
      "01 03 25 16 05       23 19  X 05 11 \n",
      " X 02 23 17  X        X  X 18 03 15 \n",
      "\n"
     ]
    },
    {
     "name": "stdin",
     "output_type": "stream",
     "text": [
      "player1's turn :  25\n"
     ]
    },
    {
     "name": "stdout",
     "output_type": "stream",
     "text": [
      "player1              player2\n",
      "19 18 09  X 11       04 17  X 01 16 \n",
      "20 21  X  X 04        X  X 10 14 07 \n",
      "10  X 07 14 15       20 02  X 21 09 \n",
      "01 03  X 16 05       23 19  X 05 11 \n",
      " X 02 23 17  X        X  X 18 03 15 \n",
      "\n"
     ]
    },
    {
     "name": "stdin",
     "output_type": "stream",
     "text": [
      "player1's turn :  04\n"
     ]
    },
    {
     "name": "stdout",
     "output_type": "stream",
     "text": [
      "player1              player2\n",
      "19 18 09  X 11        X 17  X 01 16 \n",
      "20 21  X  X  X        X  X 10 14 07 \n",
      "10  X 07 14 15       20 02  X 21 09 \n",
      "01 03  X 16 05       23 19  X 05 11 \n",
      " X 02 23 17  X        X  X 18 03 15 \n",
      "\n"
     ]
    }
   ],
   "source": [
    "#Each player takes turns to guess one number and all players cross the number out on the board\n",
    "#When a row, column, or diagonal is fully crossed it counts as 1 when a player totals 5 then the player is the winner.\n",
    "\n",
    "import random\n",
    "class Board:\n",
    "    def __init__(self):\n",
    "        self.position = {}\n",
    "        self.playBoard = [\n",
    "            [0,0,0,0,0],\n",
    "            [0,0,0,0,0],\n",
    "            [0,0,0,0,0],\n",
    "            [0,0,0,0,0],\n",
    "            [0,0,0,0,0],\n",
    "        ]\n",
    "        self.bingo = {\n",
    "            \"row\" : [0,0,0,0,0],\n",
    "            \"col\" : [0,0,0,0,0],\n",
    "            \"diagonal\" : [0,0]\n",
    "        }\n",
    "        self.createBoard()\n",
    "        \n",
    "    def createBoard(self): #used to create the game board and stores the position of each cell in the dictionary\n",
    "        choices = [i for i in range(1,26)] #choices are numbers 1-26\n",
    "        for i in range(5):\n",
    "            for j in range(5):\n",
    "                choice = random.choice(choices) #randomly selects a number in the range 1-5\n",
    "                self.playBoard[i][j] = choice #i,j indicate coordinates in the board\n",
    "                choices.pop(choices.index(choice))\n",
    "                self.position[choice] = (i,j) #assigns the coordinate i,j the value choices\n",
    "    \n",
    "    def updateBoard(self, val): #Used to update the board when a player guesses a number; calls the player and a value\n",
    "        x,y = self.position[val] #value input is assigned to x,y coordinates\n",
    "        self.playBoard[x][y] = 'X' #value at x,y is replaced with 'X'\n",
    "        self.updateBingo(x,y)\n",
    "    \n",
    "    def updateBingo(self, x, y): #used to update a dictionary to update Bingo#\n",
    "        self.bingo[\"row\"][x] += 1 #if row x has an 'X', add one\n",
    "        self.bingo[\"col\"][y] += 1 #if row y has an 'X', add one\n",
    "        if x==y==2:\n",
    "            self.bingo[\"diagonal\"][0] += 1\n",
    "            self.bingo[\"diagonal\"][1] += 1\n",
    "        elif x==y: #else if\n",
    "            self.bingo[\"diagonal\"][0] += 1\n",
    "        elif x+y == 4:\n",
    "            self.bingo[\"diagonal\"][1] += 1\n",
    "    \n",
    "    def checkBingo(self): #check to see if a player got bingo or not#\n",
    "        return 5 in self.bingo[\"row\"] or 5 in self.bingo[\"col\"] or 5 in self.bingo[\"diagonal\"]\n",
    "        #check if the total of each value is 5, if it's 5, there's a bingo\n",
    "    \n",
    "#create new class to update player's board with new number\n",
    "class Player(Board): \n",
    "    def __init__(self, name):\n",
    "        self.name = name\n",
    "        self.board = Board()\n",
    "    \n",
    "    def updatePlayerBoard(self, val):\n",
    "        self.board.updateBoard(val)\n",
    "    \n",
    "    def checkBingo(self): #checks if the player got bingo\n",
    "        return self.board.checkBingo()\n",
    "    \n",
    "#Game class to implement game functionalities\n",
    "class Game:\n",
    "    def displayBoard(self, player1, player2): #prints player's board each turn\n",
    "        board1 = player1.board.playBoard\n",
    "        board2 = player2.board.playBoard\n",
    "        size = 20\n",
    "        p1len = len(player1.name)\n",
    "        print(player1.name+\" \"*(size-p1len+1)+player2.name)\n",
    "        for i in range(5):\n",
    "            for j in board1[i]:\n",
    "                if j=='X':\n",
    "                    print(f\" {j}\",end=\" \")\n",
    "                elif j>9:\n",
    "                    print(j,end=\" \")\n",
    "                else:\n",
    "                    print(f\"0{j}\",end=\" \")\n",
    "            print(\"      \",end=\"\")\n",
    "            for j in board2[i]:\n",
    "                if j=='X':\n",
    "                    print(f\" {j}\",end=\" \")\n",
    "                elif j>9:\n",
    "                    print(j,end=\" \")\n",
    "                else:\n",
    "                    print(f\"0{j}\",end=\" \")\n",
    "            print()\n",
    "        print()\n",
    "\n",
    "#create game instance with two players\n",
    "game = Game()\n",
    "player1 = Player(name=\"player1\")\n",
    "player2 = Player(name=\"player2\")\n",
    "\n",
    "#Gameplay logic\n",
    "game.displayBoard(player1, player2)\n",
    "while True:\n",
    "    val = int(input(f\"{player1.name}'s turn : \")) #Each player inputs a number\n",
    "    player1.updatePlayerBoard(val)\n",
    "    player2.updatePlayerBoard(val)\n",
    "    game.displayBoard(player1,player2)\n",
    "    if player1.checkBingo() and player2.checkBingo():\n",
    "        print(\"DRAW\")\n",
    "        break\n",
    "    if player1.checkBingo():\n",
    "        print(f\"{player1.name} WON\")\n",
    "        break\n",
    "    if player2.checkBingo():\n",
    "        print(f\"{player2.name} WON\")\n",
    "        break\n",
    "    \n",
    "    val = int(input(f\"{player1.name}'s turn : \"))\n",
    "    player1.updatePlayerBoard(val)\n",
    "    player2.updatePlayerBoard(val)\n",
    "    game.displayBoard(player1,player2)\n",
    "    if player1.checkBingo() and player2.checkBingo():\n",
    "        print(\"DRAW\")\n",
    "        break\n",
    "    if player1.checkBingo():\n",
    "        print(f\"{player1.name} WON\")\n",
    "        break\n",
    "    if player2.checkBingo():\n",
    "        print(f\"{player2.name} WON\")\n",
    "        break"
   ]
  },
  {
   "cell_type": "code",
   "execution_count": null,
   "metadata": {},
   "outputs": [],
   "source": []
  }
 ],
 "metadata": {
  "kernelspec": {
   "display_name": "Python 3",
   "language": "python",
   "name": "python3"
  },
  "language_info": {
   "codemirror_mode": {
    "name": "ipython",
    "version": 3
   },
   "file_extension": ".py",
   "mimetype": "text/x-python",
   "name": "python",
   "nbconvert_exporter": "python",
   "pygments_lexer": "ipython3",
   "version": "3.7.6"
  }
 },
 "nbformat": 4,
 "nbformat_minor": 4
}
